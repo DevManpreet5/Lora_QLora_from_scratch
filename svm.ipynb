{
 "cells": [
  {
   "cell_type": "code",
   "execution_count": 1,
   "metadata": {},
   "outputs": [],
   "source": [
    "import pandas as pd \n",
    "import torch \n"
   ]
  },
  {
   "cell_type": "code",
   "execution_count": 3,
   "metadata": {},
   "outputs": [
    {
     "name": "stdout",
     "output_type": "stream",
     "text": [
      "tensor([[-1.1191e-01,  6.2453e-01,  2.5221e-01,  5.9521e-01,  2.9812e-01,\n",
      "         -1.4352e-01,  2.0278e-01, -1.2874e+00, -9.6245e-01,  5.4036e-01],\n",
      "        [-4.8489e+00,  5.0834e-01,  5.3080e-01, -1.1903e+00, -4.7986e-01,\n",
      "          2.1572e+00, -2.2989e-01,  3.2331e+00,  3.2669e+00, -1.4971e+00],\n",
      "        [ 3.0097e+00, -1.4606e+00, -7.7785e-01, -4.2473e-01, -2.7993e-01,\n",
      "         -9.7774e-01, -2.4614e-01,  5.3834e-01, -8.8401e-02, -1.4504e-01],\n",
      "        [ 3.9117e+00, -2.7074e+00, -1.3278e+00, -1.3741e+00, -7.7203e-01,\n",
      "         -1.0156e+00, -5.9463e-01,  2.4978e+00,  1.2553e+00, -9.4752e-01],\n",
      "        [-1.3382e+00,  6.6216e-01,  3.5084e-01,  2.0179e-01,  1.3089e-01,\n",
      "          4.3071e-01,  1.1377e-01, -2.6767e-01,  1.7730e-02,  7.6441e-02],\n",
      "        [-3.2770e+00,  1.9939e+00,  1.0050e+00,  8.7245e-01,  5.0838e-01,\n",
      "          9.3733e-01,  4.0502e-01, -1.4830e+00, -5.8709e-01,  5.3647e-01],\n",
      "        [-2.5467e+00,  1.8214e+00,  8.8746e-01,  9.5429e-01,  5.3227e-01,\n",
      "          6.4266e-01,  4.0708e-01, -1.7568e+00, -9.1674e-01,  6.7200e-01],\n",
      "        [-2.3807e+00,  7.0856e-01,  4.4034e-01, -1.1805e-01, -4.0183e-03,\n",
      "          9.1436e-01,  4.2980e-02,  5.6727e-01,  8.2667e-01, -3.0446e-01],\n",
      "        [-2.5821e+00, -2.6769e-01,  7.1841e-02, -1.1809e+00, -5.2718e-01,\n",
      "          1.3186e+00, -3.0524e-01,  2.9183e+00,  2.6515e+00, -1.3024e+00],\n",
      "        [-6.3048e+00,  2.2779e+00,  1.3233e+00,  9.5273e-02,  1.9191e-01,\n",
      "          2.2949e+00,  2.5014e-01,  6.1005e-01,  1.5094e+00, -4.2968e-01]])\n"
     ]
    }
   ],
   "source": [
    "d,k=10,10\n",
    "w_rank=2\n",
    "w=torch.randn(d,w_rank) @ torch.randn(w_rank,k)\n",
    "print(w)\n"
   ]
  },
  {
   "cell_type": "code",
   "execution_count": 4,
   "metadata": {},
   "outputs": [],
   "source": [
    "u,s,v=torch.svd(w)\n",
    "u_r=u[:,:w_rank]\n",
    "s_r=torch.diag(s[:w_rank])\n",
    "v_r=v[:,:w_rank].T\n",
    "\n",
    "b=u_r @ s_r\n",
    "a=v_r"
   ]
  },
  {
   "cell_type": "code",
   "execution_count": 6,
   "metadata": {},
   "outputs": [
    {
     "name": "stdout",
     "output_type": "stream",
     "text": [
      "tensor([ -5.3267,   3.5230,   7.3089,  14.9082,  -3.7752, -10.0483, -11.5644,\n",
      "         -1.5521,   7.5218,  -7.3797])\n",
      "tensor([ -5.3267,   3.5230,   7.3089,  14.9082,  -3.7752, -10.0483, -11.5644,\n",
      "         -1.5521,   7.5218,  -7.3797])\n",
      "100\n",
      "40\n"
     ]
    }
   ],
   "source": [
    "bias=torch.randn(d)\n",
    "x=torch.randn(d)\n",
    "y=w@x+bias\n",
    "y_2=(b@a)@x + bias\n",
    "\n",
    "print(y)\n",
    "print(y_2)\n",
    "\n",
    "print(w.nelement())\n",
    "print(b.nelement()+a.nelement())\n",
    "\n"
   ]
  }
 ],
 "metadata": {
  "kernelspec": {
   "display_name": "Python 3",
   "language": "python",
   "name": "python3"
  },
  "language_info": {
   "codemirror_mode": {
    "name": "ipython",
    "version": 3
   },
   "file_extension": ".py",
   "mimetype": "text/x-python",
   "name": "python",
   "nbconvert_exporter": "python",
   "pygments_lexer": "ipython3",
   "version": "3.9.7"
  }
 },
 "nbformat": 4,
 "nbformat_minor": 2
}
